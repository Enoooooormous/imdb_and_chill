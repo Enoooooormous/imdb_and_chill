{
 "cells": [
  {
   "cell_type": "code",
   "execution_count": null,
   "metadata": {},
   "outputs": [],
   "source": [
    "## Import all the packages needed\n",
    "\n",
    "# Access AWS services\n",
    "import boto3\n",
    "\n",
    "# Perform the Google search\n",
    "from googlesearch import search \n",
    "\n",
    "# Process images\n",
    "import cv2\n",
    "import matplotlib.pyplot as plt\n",
    "\n",
    "# Scraping\n",
    "import requests\n",
    "from scrapy import Selector\n",
    "import re\n"
   ]
  },
  {
   "cell_type": "code",
   "execution_count": null,
   "metadata": {},
   "outputs": [],
   "source": []
  },
  {
   "cell_type": "code",
   "execution_count": null,
   "metadata": {},
   "outputs": [],
   "source": [
    "## Step 1: create a function which processes the image and extract the necessary information\n",
    "\n",
    "### Use AWS Rekognition to check if there is a TV in the image;\n",
    "### If yes, we will use the bouding box to focus the search and extraction of the text within the image;\n",
    "### If no TV, no need to do anything further;\n",
    "\n",
    "\n",
    "def extract_text_from_image(image, rekog):\n",
    "    \n",
    "    # Use Rekognition from AWS to detect objects in the picture \n",
    "    rekog_tv_response = rekog.detect_labels(# The image needs to be an S3 Object\n",
    "                                            Image=image)\n",
    "\n",
    "    # Check if a TV has been found with a set confidence level. \n",
    "    for label in rekog_tv_response['Labels']:\n",
    "        # Find the TV label\n",
    "        if label['Name'] == 'TV':\n",
    "            for instance in label['Instances']:\n",
    "                # Only count instances with confidence > 85\n",
    "                if (instance['Confidence'] > 85):\n",
    "                    # Extract the bounding box\n",
    "                    top, left, height, width = instance['BoudingBox']['Top'], instance['BoudingBox']['Left'], instance['BoudingBox']['Height'], instance['BoudingBox']['Width']\n",
    "                    tv_image = image[top:top+width, left:left+height]\n",
    "                    # Recognize the text\n",
    "                    rekog_text_response = rekog.detect_labels(# The image needs to be an S3 Object\n",
    "                                                              Image=tv_image)\n",
    "                    # Extract the text\n",
    "                    text = []\n",
    "                    # Iterate over the TextDetections in the response dictionary\n",
    "                    for text_detection in rekog_text_response['TextDetections']:\n",
    "                        # If TextDetection type is Line, append it to lines list\n",
    "                        if text_detection['Type'] == 'LINE':\n",
    "                            # Append the detected text\n",
    "                            text.append(text_detection['DetectedText'])\n",
    "                    \n",
    "                    return text\n",
    "                "
   ]
  },
  {
   "cell_type": "code",
   "execution_count": null,
   "metadata": {},
   "outputs": [],
   "source": []
  },
  {
   "cell_type": "code",
   "execution_count": null,
   "metadata": {},
   "outputs": [],
   "source": [
    "## Step 2: create a function that returns the IMDB URL page of the TV show/movie \n",
    "\n",
    "### Use Google to search for the right IMDB page\n",
    "### Return the URL page to be scraped\n",
    "\n",
    "def get_imdb_url(text):\n",
    "    # Build the query that will be used to find the right IMDB page \n",
    "    query_google = str(text) + ' on IMDB'\n",
    "    \n",
    "    # Perform the query and return only one result \n",
    "    url_imdb = [*search(query_google, tld=\"com\", lang='en', start= 0, stop=1, pause=5)]\n",
    "    \n",
    "    return url_imdb\n",
    "  "
   ]
  },
  {
   "cell_type": "code",
   "execution_count": null,
   "metadata": {},
   "outputs": [],
   "source": []
  },
  {
   "cell_type": "code",
   "execution_count": null,
   "metadata": {},
   "outputs": [],
   "source": [
    "## Compile the functions to create the application pipeline\n",
    "\n",
    "### Load the image\n",
    "### Identify the title of TV show/Movie\n",
    "### Identify its IMDB page\n",
    "### Scrape the page for the rating\n",
    "### Return the result on the image\n",
    "\n",
    "\n",
    "\n",
    "# Set up the AWS connection\n",
    "rekog = boto3.client('rekognition', region_name = region_name, \n",
    "                      # Set up AWS credentials \n",
    "                      aws_access_key_id = AWS_KEY_ID, \n",
    "                      aws_secret_access_key = AWS_SECRET)\n",
    "\n",
    "# Load the image\n",
    "image = cv2.imread('...')\n",
    "\n",
    "# Get the title\n",
    "title = extract_text_from_image(image, rekog)\n",
    "\n",
    "# Get the IMDB page\n",
    "url_imdb = get_imdb_url(title)\n",
    "\n",
    "# Extract the rating\n",
    "rating = get_rating(url_imdb)\n",
    "\n",
    "# Output the result\n",
    "cv2.putText(image, rating, (50,100), cv2.FONT_HERSHEY_DUPLEX, 3, (255,0,0), 8)\n",
    "cv2.imshow(image)\n"
   ]
  }
 ],
 "metadata": {
  "kernelspec": {
   "display_name": "Python 3",
   "language": "python",
   "name": "python3"
  },
  "language_info": {
   "codemirror_mode": {
    "name": "ipython",
    "version": 3
   },
   "file_extension": ".py",
   "mimetype": "text/x-python",
   "name": "python",
   "nbconvert_exporter": "python",
   "pygments_lexer": "ipython3",
   "version": "3.7.3"
  }
 },
 "nbformat": 4,
 "nbformat_minor": 2
}
